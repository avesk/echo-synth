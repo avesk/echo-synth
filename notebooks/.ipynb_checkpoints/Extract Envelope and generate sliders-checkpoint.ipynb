{
 "cells": [
  {
   "cell_type": "code",
   "execution_count": null,
   "metadata": {},
   "outputs": [],
   "source": [
    "def extract_envelope(signal, sr):\n",
    "    '''\n",
    "    Approximate envelope, Extract attack\n",
    "    '''\n",
    "    K = 200\n",
    "    approx_env = three_step_envelope(signal=signal, K=K)\n",
    "    # convert envelope to Fortran-contiguous\n",
    "    ftrn_env = np.asfortranarray(approx_env) \n",
    "    \n",
    "    first_onset = find_first_onset(signal)\n",
    "    attack_t = attack(ftrn_env, first_onset, sr)"
   ]
  },
  {
   "cell_type": "code",
   "execution_count": 9,
   "metadata": {},
   "outputs": [
    {
     "data": {
      "application/vnd.jupyter.widget-view+json": {
       "model_id": "bf54adda1384456f94083e3c354f7c52",
       "version_major": 2,
       "version_minor": 0
      },
      "text/plain": [
       "VBox(children=(FloatSlider(value=7.0, description='attack:', max=10.0, step=0.01), FloatSlider(value=7.0, desc…"
      ]
     },
     "metadata": {},
     "output_type": "display_data"
    },
    {
     "data": {
      "application/vnd.jupyter.widget-view+json": {
       "model_id": "38431f4e4d1d4d2fb7eb13922328d992",
       "version_major": 2,
       "version_minor": 0
      },
      "text/plain": [
       "Output()"
      ]
     },
     "metadata": {},
     "output_type": "display_data"
    }
   ],
   "source": [
    "import ipywidgets as widgets\n",
    "\n",
    "# Initialize sliders\n",
    "attack = widgets.FloatSlider(\n",
    "    description='attack:',\n",
    "    value=7,\n",
    "    min=0,\n",
    "    max=10,\n",
    "    step=0.01,\n",
    ")\n",
    "decay = widgets.FloatSlider(\n",
    "    description='decay:',\n",
    "    value=7,\n",
    "    min=0,\n",
    "    max=10,\n",
    "    step=0.01,\n",
    ")\n",
    "sustain = widgets.FloatSlider(\n",
    "    description='sustain:',\n",
    "    value=7,\n",
    "    min=0,\n",
    "    max=10,\n",
    "    step=0.01,\n",
    ")\n",
    "release = widgets.FloatSlider(\n",
    "    description='release:',\n",
    "    value=7,\n",
    "    min=0,\n",
    "    max=10,\n",
    "    step=0.01,\n",
    ")\n",
    "ui = widgets.VBox([attack, decay, sustain, release])\n",
    "\n",
    "def f(attack, decay, sustain, release):\n",
    "    return {\n",
    "        \"attack\": attack,\n",
    "        \"decay\": decay,\n",
    "        \"sustain\": sustain,\n",
    "        \"release\": release\n",
    "    }\n",
    "\n",
    "out = widgets.interactive_output(\n",
    "    f, {'attack': attack, 'decay': decay, 'sustain': sustain, 'release': release}\n",
    ")\n",
    "\n",
    "display(ui, out)"
   ]
  },
  {
   "cell_type": "code",
   "execution_count": null,
   "metadata": {},
   "outputs": [],
   "source": []
  }
 ],
 "metadata": {
  "kernelspec": {
   "display_name": "Python 3",
   "language": "python",
   "name": "python3"
  },
  "language_info": {
   "codemirror_mode": {
    "name": "ipython",
    "version": 3
   },
   "file_extension": ".py",
   "mimetype": "text/x-python",
   "name": "python",
   "nbconvert_exporter": "python",
   "pygments_lexer": "ipython3",
   "version": "3.7.4"
  }
 },
 "nbformat": 4,
 "nbformat_minor": 2
}
