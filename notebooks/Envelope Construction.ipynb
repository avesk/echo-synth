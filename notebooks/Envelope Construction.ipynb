{
 "cells": [
  {
   "cell_type": "code",
   "execution_count": null,
   "metadata": {},
   "outputs": [],
   "source": [
    "# Imports\n",
    "%matplotlib notebook \n",
    "%matplotlib inline\n",
    "import numpy as np\n",
    "import matplotlib.pyplot as plt\n",
    "import IPython.display as ipd\n",
    "from envelope_construcion import envelope_amplitude\n",
    "from oscillator import oscillator\n"
   ]
  },
  {
   "cell_type": "markdown",
   "metadata": {},
   "source": [
    "#### Input: \n",
    "```\n",
    "envelope = { \n",
    "    \"attack\": dur(float), \n",
    "    \"decay\": dur(float), \n",
    "    \"sustain\":tuple(dur(float), amp(float)), \n",
    "    \"release\": dur(float) \n",
    "}\n",
    "```\n",
    "#### Output:\n",
    "    * Tuple of amplitude track and length"
   ]
  },
  {
   "cell_type": "code",
   "execution_count": null,
   "metadata": {},
   "outputs": [],
   "source": [
    "# Sustain: (dur, amplitude)\n",
    "envelope = {\n",
    "    \"attack\": 0.01,\n",
    "    \"decay\": 0.1,\n",
    "    \"sustain\": (0.1, 0.5),\n",
    "    \"release\": 5,\n",
    "}\n",
    "\n",
    "amp_track, length = envelope_amplitude(envelope)\n",
    "signal = oscillator(dur=length / 44100, freq=120, wave_type=\"sinusoid\")[:length]\n",
    "plt.plot(signal * amp_track)\n",
    "plt.plot(amp_track, color='red')\n",
    "ipd.Audio(amp_track * signal ,rate=44100)"
   ]
  }
 ],
 "metadata": {
  "kernelspec": {
   "display_name": "Python 3",
   "language": "python",
   "name": "python3"
  },
  "language_info": {
   "codemirror_mode": {
    "name": "ipython",
    "version": 3
   },
   "file_extension": ".py",
   "mimetype": "text/x-python",
   "name": "python",
   "nbconvert_exporter": "python",
   "pygments_lexer": "ipython3",
   "version": "3.7.4"
  }
 },
 "nbformat": 4,
 "nbformat_minor": 2
}
