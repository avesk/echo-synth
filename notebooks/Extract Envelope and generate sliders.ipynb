{
 "cells": [
  {
   "cell_type": "code",
   "execution_count": 1,
   "metadata": {},
   "outputs": [],
   "source": [
    "import numpy as np\n",
    "from scipy import signal as sig\n",
    "import librosa\n",
    "from src.synth import Synth\n",
    "import matplotlib.pyplot as plt\n",
    "\n",
    "\n",
    "\n",
    "def three_step_envelope(signal, K=200, freq_cutoff=0.125, padlen=150):\n",
    "    # Take the absolute value of the signal\n",
    "    abs_signal = np.abs(signal)\n",
    "\n",
    "    # Split signal into K bunches of N/K samples and take the max\n",
    "    # value from each bunch\n",
    "    N = len(abs_signal)\n",
    "    peaks = []\n",
    "    for i in range(0, N, K):\n",
    "        peaks.append(np.max(abs_signal[i:i+K]))\n",
    "    peaks = np.asarray(peaks)\n",
    "\n",
    "    # Apply a LPF with a cut off of 0.125 Times the Niquist (125 Hz)\n",
    "    b, a = sig.butter(8, freq_cutoff)\n",
    "    lpf_peaks = sig.filtfilt(b, a, peaks, padlen=padlen)\n",
    "    \n",
    "    return lpf_peaks\n",
    "\n",
    "def find_first_onset(signal, K=200):\n",
    "    onsets = []\n",
    "    while len(onsets) == 0: \n",
    "        approx_env = three_step_envelope(signal=signal, K=K)\n",
    "        # convert envelope to Fortran-contiguous\n",
    "        ftrn_env = np.asfortranarray(approx_env) \n",
    "\n",
    "        onsets = librosa.onset.onset_detect(y=ftrn_env, sr=sr)\n",
    "        print(onsets)\n",
    "        K-=10\n",
    "    \n",
    "    return onsets[0]\n",
    "\n",
    "def attack(signal, onset, sr):\n",
    "    '''\n",
    "    Computes attack time by taking the difference \n",
    "    of the argmax and onset and dividing by the sampling rate\n",
    "    '''\n",
    "    return (np.argmax(np.abs(signal)) - onset)/sr\n",
    "\n",
    "def extract_envelope(signal, sr):\n",
    "    '''\n",
    "    Approximate envelope, Extract attack\n",
    "    '''\n",
    "    K = 200\n",
    "    approx_env = three_step_envelope(signal=signal, K=K)\n",
    "    # convert envelope to Fortran-contiguous\n",
    "    ftrn_env = np.asfortranarray(approx_env) \n",
    "    \n",
    "    first_onset = find_first_onset(signal)\n",
    "    attack_t = attack(ftrn_env, first_onset, sr)\n",
    "    \n",
    "    return {\n",
    "        \"attack\": attack_t,\n",
    "        \"decay\": 0.5,\n",
    "        \"sustain\": (1.0, 0.5),\n",
    "        \"release\": 2.0,\n",
    "    }"
   ]
  },
  {
   "cell_type": "code",
   "execution_count": 2,
   "metadata": {},
   "outputs": [
    {
     "name": "stdout",
     "output_type": "stream",
     "text": [
      "[5]\n"
     ]
    }
   ],
   "source": [
    "import soundfile as sf\n",
    "\n",
    "fname = '../datasets/guitar/open-e.wav'\n",
    "signal, sr = sf.read(fname)\n",
    "synth.set_signal(signal)\n",
    "synth.set_srate(sr)\n",
    "env = synth.extract_envelope()"
   ]
  },
  {
   "cell_type": "code",
   "execution_count": 13,
   "metadata": {},
   "outputs": [
    {
     "data": {
      "application/vnd.jupyter.widget-view+json": {
       "model_id": "a49808d35d0c40abb6d6ff5d388e6985",
       "version_major": 2,
       "version_minor": 0
      },
      "text/plain": [
       "VBox(children=(FloatSlider(value=0.0009750566893424037, description='attack:', max=2.0, readout_format='.4f', …"
      ]
     },
     "metadata": {},
     "output_type": "display_data"
    },
    {
     "data": {
      "application/vnd.jupyter.widget-view+json": {
       "model_id": "bc43a9adcb2d43da846d06c1eae9651b",
       "version_major": 2,
       "version_minor": 0
      },
      "text/plain": [
       "Output()"
      ]
     },
     "metadata": {},
     "output_type": "display_data"
    }
   ],
   "source": [
    "import ipywidgets as widgets\n",
    "\n",
    "synth = Synth()\n",
    "\n",
    "# Initialize sliders\n",
    "attack = widgets.FloatSlider(\n",
    "    description='attack:',\n",
    "    value=env['attack'],\n",
    "    min=0,\n",
    "    max=2.0,\n",
    "    step=0.00001,\n",
    "    readout_format='.4f',\n",
    ")\n",
    "decay = widgets.FloatSlider(\n",
    "    description='decay:',\n",
    "    value=env['decay'],\n",
    "    min=0,\n",
    "    max=2.0,\n",
    "    step=0.00001,\n",
    "    readout_format='.4f',\n",
    ")\n",
    "sustain_time = widgets.FloatSlider(\n",
    "    description='sustain time:',\n",
    "    value=env['sustain'][0],\n",
    "    min=0,\n",
    "    max=10,\n",
    "    step=0.00001,\n",
    "    readout_format='.4f',\n",
    ")\n",
    "sustain_power = widgets.FloatSlider(\n",
    "    description='sustain power:',\n",
    "    value=env['sustain'][1],\n",
    "    min=0,\n",
    "    max=1.0,\n",
    "    step=0.00001,\n",
    "    readout_format='.4f',\n",
    ")\n",
    "release = widgets.FloatSlider(\n",
    "    description='release:',\n",
    "    value=env['release'],\n",
    "    min=0,\n",
    "    max=10,\n",
    "    step=0.00001,\n",
    "    readout_format='.4f',\n",
    ")\n",
    "ui = widgets.VBox([attack, decay, sustain_time, sustain_power, release])\n",
    "\n",
    "def f(attack, decay, sustain_time, sustain_power, release):\n",
    "    env = {\n",
    "        \"attack\": attack,\n",
    "        \"decay\": decay,\n",
    "        \"sustain\": (sustain_time, sustain_power),\n",
    "        \"release\": release\n",
    "    }\n",
    "    synth.set_envelope(env)\n",
    "    print(synth.get_envelope())\n",
    "    # construct envelope\n",
    "\n",
    "out = widgets.interactive_output(\n",
    "    f, {'attack': attack, 'decay': decay, 'sustain_time': sustain_time,\n",
    "        'sustain_power': sustain_power, 'release': release}\n",
    ")\n",
    "\n",
    "display(ui, out)"
   ]
  },
  {
   "cell_type": "code",
   "execution_count": 16,
   "metadata": {},
   "outputs": [
    {
     "data": {
      "text/plain": [
       "[<matplotlib.lines.Line2D at 0x1275aef50>]"
      ]
     },
     "execution_count": 16,
     "metadata": {},
     "output_type": "execute_result"
    },
    {
     "data": {
      "image/png": "[encoded data removed]",
      "text/plain": [
       "<Figure size 432x288 with 1 Axes>"
      ]
     },
     "metadata": {
      "needs_background": "light"
     },
     "output_type": "display_data"
    }
   ],
   "source": [
    "plt.plot(synth.envelope_amp_track()[0])"
   ]
  },
  {
   "cell_type": "code",
   "execution_count": null,
   "metadata": {},
   "outputs": [],
   "source": []
  }
 ],
 "metadata": {
  "kernelspec": {
   "display_name": "Python 3",
   "language": "python",
   "name": "python3"
  },
  "language_info": {
   "codemirror_mode": {
    "name": "ipython",
    "version": 3
   },
   "file_extension": ".py",
   "mimetype": "text/x-python",
   "name": "python",
   "nbconvert_exporter": "python",
   "pygments_lexer": "ipython3",
   "version": "3.7.4"
  }
 },
 "nbformat": 4,
 "nbformat_minor": 2
}
