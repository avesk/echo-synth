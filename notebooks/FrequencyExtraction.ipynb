{
 "cells": [
  {
   "cell_type": "markdown",
   "metadata": {},
   "source": [
    "### Frequency extraction"
   ]
  },
  {
   "cell_type": "code",
   "execution_count": null,
   "metadata": {},
   "outputs": [],
   "source": [
    "%matplotlib inline\n",
    "import soundfile as sf\n",
    "import IPython.display as ipd\n",
    "import numpy as np\n",
    "import math as math\n",
    "import matplotlib.pyplot as plt\n",
    "import scipy\n",
    "from librosa.display import specshow\n",
    "import librosa"
   ]
  },
  {
   "cell_type": "code",
   "execution_count": null,
   "metadata": {},
   "outputs": [],
   "source": [
    "VIBRATO_WAV = '../datasets/guitar/vibrato.wav'\n",
    "OPENA_WAV = '../datasets/guitar/open-a.wav'\n",
    "OPENE_HIGH_WAV = '../datasets/guitar/open-high-e.wav'\n",
    "HARMONIC_WAV = '../datasets/guitar/12th-fret-harmonic.wav'\n",
    "HOP_SIZE = 256\n",
    "WIN_SIZE = 512"
   ]
  },
  {
   "cell_type": "code",
   "execution_count": null,
   "metadata": {},
   "outputs": [],
   "source": [
    "def sinusoid(freq=440.0, dur=1.0, srate=44100.0, amp=1.0, phase = 0.0): \n",
    "    t = np.linspace(0,dur,int(srate*dur))\n",
    "    data = amp * np.sin(2*np.pi*freq *t+phase)\n",
    "    return data\n",
    "def oscillator(freq=440.0, dur=1.0, srate=44100.0, amp=1.0, phase=0.0, wave_type='sinusoid'):\n",
    "    \n",
    "    if wave_type not in ['sinusoid', 'triangle', 'square']:\n",
    "        return None\n",
    "    \n",
    "    if wave_type == 'sinusoid':\n",
    "        return sinusoid(freq=freq, dur=dur, srate=srate, amp=amp, phase=phase)\n",
    "    \n",
    "    wave = sinusoid(freq=freq, dur=dur, amp=amp)\n",
    "    \n",
    "    for i in range(1,20):\n",
    "        harmonic = 2*i+1\n",
    "        sin = sinusoid(freq=freq*harmonic, dur=dur, amp=amp)\n",
    "        if wave_type == 'triangle':\n",
    "            sin = sin*(np.power(-1,i))*(harmonic**-2)\n",
    "        else:\n",
    "            sin = sin / harmonic\n",
    "        wave = np.add(wave, sin)\n",
    "        \n",
    "    if wave_type == 'square':\n",
    "        return wave * 4 / np.pi \n",
    "    if wave_type == 'triangle':\n",
    "        return wave * np.pi / 4"
   ]
  },
  {
   "cell_type": "code",
   "execution_count": null,
   "metadata": {},
   "outputs": [],
   "source": [
    "def group_close_indices(bin_indices):    \n",
    "    bin_indices.sort()\n",
    "    new_list = [bin_indices[0]]\n",
    "    for i in range(1,len(bin_indices)):\n",
    "        if(bin_indices[i] - 1 == bin_indices[i - 1]):\n",
    "            if(isinstance(new_list[-1], list)):\n",
    "                new_list[-1].append(bin_indices[i])\n",
    "            else:\n",
    "                new_list[-1] = [new_list[-1], bin_indices[i]]\n",
    "        else:\n",
    "            new_list.append(bin_indices[i])\n",
    "    return new_list\n",
    "\n",
    "def bin_to_freq_mag(indices, bin_to_freq, fftdata):\n",
    "    output = []\n",
    "    for idx in indices:\n",
    "        if(isinstance(idx, list)):\n",
    "            freqs = bin_to_freq[idx]\n",
    "            mags = fftdata[idx]\n",
    "            output.append((np.mean(freqs),np.mean(mags)))\n",
    "        else:\n",
    "            output.append((bin_to_freq[idx], fftdata[idx]))\n",
    "    return output\n",
    "\n",
    "def get_n_top_freqs(fftdata, N, bin_to_freq):\n",
    "    \"\"\" return frequency, amplitude\"\"\"\n",
    "    indices = np.argpartition(fftdata,-N)[-N:]\n",
    "    grouped_indices = group_close_indices(indices)\n",
    "    print(grouped_indices)\n",
    "    return bin_to_freq_mag(grouped_indices, bin_to_freq, fftdata)"
   ]
  },
  {
   "cell_type": "code",
   "execution_count": null,
   "metadata": {},
   "outputs": [],
   "source": [
    "def combine_freq(freqs, duration):\n",
    "    output = oscillator(0, duration, amp=0)\n",
    "    for freq in freqs:\n",
    "        output = np.add(output, oscillator(freq[0], duration, amp=freq[1]))\n",
    "    return output"
   ]
  },
  {
   "cell_type": "code",
   "execution_count": null,
   "metadata": {},
   "outputs": [],
   "source": [
    "ipd.Audio(OPENA_WAV, rate=44100)"
   ]
  },
  {
   "cell_type": "code",
   "execution_count": null,
   "metadata": {},
   "outputs": [],
   "source": [
    "def clean_input(audio):\n",
    "    audio_mag = np.abs(audio)\n",
    "    audio_mag = audio_mag[np.argmax(audio_mag>0.1):]\n",
    "    b = audio_mag[::-1]\n",
    "    i = len(b) - np.argmax(b > 0.1) - 1\n",
    "    audio_mag = audio_mag[:i]\n",
    "    return audio_mag\n",
    "def normalize(audio_signal):\n",
    "    audio_signal = audio_signal.astype(np.float32) / 32767.0 \n",
    "    return (0.9 / max(audio_signal)) * audio_signal"
   ]
  },
  {
   "cell_type": "code",
   "execution_count": null,
   "metadata": {},
   "outputs": [],
   "source": [
    "y, sr = librosa.load(OPENA_WAV)"
   ]
  },
  {
   "cell_type": "code",
   "execution_count": null,
   "metadata": {},
   "outputs": [],
   "source": [
    "y = normalize(y)\n",
    "y = clean_input(y)\n",
    "# ipd.Audio(y, rate=sr)"
   ]
  },
  {
   "cell_type": "code",
   "execution_count": null,
   "metadata": {},
   "outputs": [],
   "source": [
    "plt.figure()\n",
    "plt.plot(y[:])\n",
    "plt.show()"
   ]
  },
  {
   "cell_type": "code",
   "execution_count": null,
   "metadata": {},
   "outputs": [],
   "source": [
    "stft = False\n",
    "N_FFT = 2048\n",
    "if(stft):\n",
    "    frame_n = 5\n",
    "    D = np.abs(librosa.stft(y, n_fft=N_FFT, hop_length=2048, win_length=2048))\n",
    "    frame = D[:, frame_n]\n",
    "else:\n",
    "    D = np.abs(scipy.fft(y, n=N_FFT))\n",
    "    frame = D[:len(D)//2]"
   ]
  },
  {
   "cell_type": "code",
   "execution_count": null,
   "metadata": {},
   "outputs": [],
   "source": [
    "plt.figure()\n",
    "plt.plot(frame[:10000])"
   ]
  },
  {
   "cell_type": "code",
   "execution_count": null,
   "metadata": {},
   "outputs": [],
   "source": [
    "N = 10\n",
    "bin_to_freq = librosa.fft_frequencies(sr, N_FFT)\n",
    "top_N = get_n_top_freqs(frame, N, bin_to_freq)\n",
    "top_N"
   ]
  },
  {
   "cell_type": "code",
   "execution_count": null,
   "metadata": {},
   "outputs": [],
   "source": [
    "stft_test = combine_freq(top_N, 3)\n",
    "ipd.Audio(stft_test, rate=44100)"
   ]
  },
  {
   "cell_type": "markdown",
   "metadata": {},
   "source": [
    "### ...end of useful code"
   ]
  },
  {
   "cell_type": "code",
   "execution_count": null,
   "metadata": {},
   "outputs": [],
   "source": [
    "plt.figure(dpi=800)\n",
    "\n",
    "# D = librosa.amplitude_to_db(np.abs(librosa.stft(y, hop_length=2048, win_length=2048)), ref=np.max)\n",
    "D = np.abs(librosa.stft(y, hop_length=2048, win_length=2048))\n",
    "# plt.subplot(4, 2, 1)\n",
    "specshow(D, y_axis='linear')\n",
    "plt.colorbar(format='%+2.0f dB')\n",
    "plt.title('Linear-frequency power spectrogram')"
   ]
  },
  {
   "cell_type": "markdown",
   "metadata": {},
   "source": [
    "create an algorithm that extracts the N loudest frequencies and returns them"
   ]
  },
  {
   "cell_type": "code",
   "execution_count": null,
   "metadata": {},
   "outputs": [],
   "source": [
    "plt.figure()\n",
    "plt.plot(D[:,15])"
   ]
  },
  {
   "cell_type": "code",
   "execution_count": null,
   "metadata": {},
   "outputs": [],
   "source": [
    "def pitch_fft(frame, srate): \n",
    "    mag = np.abs(np.fft.fft(frame))\n",
    "    mag = mag[0:int(len(mag)/2)]\n",
    "    plt.figure(figsize=(20,5))\n",
    "    plt.plot(mag[:100])\n",
    "    pitch_estimate = np.argmax(mag) * (srate / len(frame))\n",
    "    return pitch_estimate \n",
    "hop_n = 10 * HOP_SIZE\n",
    "pitch_fft(y[hop_n: hop_n + WIN_SIZE], sr)"
   ]
  },
  {
   "cell_type": "markdown",
   "metadata": {},
   "source": [
    "# Take 2"
   ]
  },
  {
   "cell_type": "code",
   "execution_count": null,
   "metadata": {},
   "outputs": [],
   "source": [
    "ipd.Audio(y, rate=44100)"
   ]
  },
  {
   "cell_type": "code",
   "execution_count": null,
   "metadata": {},
   "outputs": [],
   "source": [
    "D2 = np.abs(scipy.fft(y, 2048))\n",
    "D2 = D2[:len(D2)//2]"
   ]
  },
  {
   "cell_type": "code",
   "execution_count": null,
   "metadata": {},
   "outputs": [],
   "source": [
    "plt.figure()\n",
    "plt.plot(D2)"
   ]
  },
  {
   "cell_type": "code",
   "execution_count": null,
   "metadata": {},
   "outputs": [],
   "source": [
    "d2_top = get_n_top_freqs(D2, 3)"
   ]
  },
  {
   "cell_type": "code",
   "execution_count": null,
   "metadata": {},
   "outputs": [],
   "source": [
    "D2_test = combine_freq(d2_top, 3)\n",
    "ipd.Audio(D2_test, rate=44100)"
   ]
  },
  {
   "cell_type": "code",
   "execution_count": null,
   "metadata": {},
   "outputs": [],
   "source": []
  },
  {
   "cell_type": "code",
   "execution_count": null,
   "metadata": {},
   "outputs": [],
   "source": []
  },
  {
   "cell_type": "markdown",
   "metadata": {},
   "source": [
    "This is just me trying out some stuff. ~goh"
   ]
  },
  {
   "cell_type": "code",
   "execution_count": null,
   "metadata": {},
   "outputs": [],
   "source": [
    "%matplotlib inline \n",
    "import math\n",
    "import matplotlib.pyplot as plt\n",
    "import numpy as np\n",
    "import librosa as lb\n",
    "import scipy.signal as signal \n",
    "from scipy.interpolate import interp1d \n",
    "\n",
    "import scipy.io.wavfile as wav\n",
    "import IPython.display as ipd\n",
    "\n",
    "import aubio\n",
    "\n",
    "import timeit"
   ]
  },
  {
   "cell_type": "code",
   "execution_count": null,
   "metadata": {},
   "outputs": [],
   "source": [
    "def pitch_track_aubio(signal, hopSize, winSize, extractor, srate=None): \n",
    "    offsets = np.arange(0, len(signal), hopSize)\n",
    "    pitch_track = np.zeros(len(offsets))\n",
    "    amp_track = np.zeros(len(offsets))\n",
    "    \n",
    "    for (m,o) in enumerate(offsets): \n",
    "        frame = signal[o:o+winSize] \n",
    "        amp_track[m] = np.sqrt(np.mean(np.square(frame)))  \n",
    "        if(len(frame) < winSize):\n",
    "            frame = np.pad(frame, (0,winSize - len(frame)), 'constant')\n",
    "        extracted = extractor(frame)\n",
    "#         print(extracted)\n",
    "        pitch_track[m] = extracted[0]\n",
    "        \n",
    "\n",
    "        if (pitch_track[m] > 1500): \n",
    "            pitch_track[m] = 0 \n",
    "        \n",
    "    return (amp_track, pitch_track)\n",
    "\n",
    "def sonify(amp_track, pitch_track, srate, hop_size):\n",
    "\n",
    "    times = np.arange(0.0, float(hop_size * len(pitch_track)) / srate,\n",
    "                      float(hop_size) / srate)\n",
    "\n",
    "    # sample locations in time (seconds)                                                      \n",
    "    sample_times = np.linspace(0, np.max(times), int(np.max(times)*srate-1))\n",
    "\n",
    "    # create linear interpolators for frequencies and amplitudes                              \n",
    "    # so that we have a frequency and amplitude value for \n",
    "    # every sample \n",
    "    freq_interpolator = interp1d(times,pitch_track)\n",
    "    amp_interpolator = interp1d(times,amp_track)\n",
    "\n",
    "    # use the interpolators to calculate per sample frequency and                             \n",
    "    # ampitude values                                                                         \n",
    "    sample_freqs = freq_interpolator(sample_times)\n",
    "    sample_amps  = amp_interpolator(sample_times)\n",
    "\n",
    "    # create audio signal                                                                     \n",
    "    audio = np.zeros(len(sample_times));\n",
    "    T = 1.0 / srate\n",
    "    phase = 0.0\n",
    "    \n",
    "    # update phase according to the sample frequencies \n",
    "    for i in range(1, len(audio)):\n",
    "        audio[i] = sample_amps[i] * np.sin(phase)\n",
    "        phase = phase + (2*np.pi*T*sample_freqs[i])\n",
    "\n",
    "    return audio"
   ]
  },
  {
   "cell_type": "code",
   "execution_count": null,
   "metadata": {},
   "outputs": [],
   "source": [
    "VIBRATO_WAV = '../datasets/guitar/vibrato.wav'\n",
    "OPENA_WAV = '../datasets/guitar/open-a.wav'\n",
    "ipd.Audio(OPENA_WAV, rate=44100)"
   ]
  },
  {
   "cell_type": "code",
   "execution_count": null,
   "metadata": {},
   "outputs": [],
   "source": [
    "audio, SR = lb.load(OPENA_WAV)"
   ]
  },
  {
   "cell_type": "code",
   "execution_count": null,
   "metadata": {},
   "outputs": [],
   "source": [
    "hop_size = 256\n",
    "win_size = 512\n",
    "pitch_yin = aubio.pitch(\"yin\",buf_size=win_size, hop_size=win_size, samplerate=SR)\n",
    "pitch_yinfft = aubio.pitch(\"yinfft\", buf_size=win_size, hop_size=win_size, samplerate=SR)"
   ]
  },
  {
   "cell_type": "code",
   "execution_count": null,
   "metadata": {},
   "outputs": [],
   "source": [
    "(at1, pt1) = pitch_track_aubio(audio, hop_size, win_size, pitch_yin)\n",
    "pt3 = signal.medfilt(pt1, kernel_size=7)"
   ]
  },
  {
   "cell_type": "code",
   "execution_count": null,
   "metadata": {},
   "outputs": [],
   "source": [
    "pt1_audio = sonify(at1, pt3, SR, hop_size)\n",
    "ipd.Audio(pt1_audio,rate=SR)"
   ]
  },
  {
   "cell_type": "code",
   "execution_count": null,
   "metadata": {},
   "outputs": [],
   "source": []
  }
 ],
 "metadata": {
  "kernelspec": {
   "display_name": "Python 3",
   "language": "python",
   "name": "python3"
  },
  "language_info": {
   "codemirror_mode": {
    "name": "ipython",
    "version": 3
   },
   "file_extension": ".py",
   "mimetype": "text/x-python",
   "name": "python",
   "nbconvert_exporter": "python",
   "pygments_lexer": "ipython3",
   "version": "3.6.8"
  }
 },
 "nbformat": 4,
 "nbformat_minor": 4
}
