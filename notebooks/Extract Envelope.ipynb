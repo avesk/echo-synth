{
 "cells": [
  {
   "cell_type": "markdown",
   "metadata": {},
   "source": [
    "# Extract Envelope "
   ]
  },
  {
   "cell_type": "markdown",
   "metadata": {},
   "source": [
    "### Imports"
   ]
  },
  {
   "cell_type": "code",
   "execution_count": 6,
   "metadata": {},
   "outputs": [],
   "source": [
    "from aubio import source, onset\n",
    "import soundfile as sf\n",
    "import numpy as np"
   ]
  },
  {
   "cell_type": "code",
   "execution_count": 3,
   "metadata": {},
   "outputs": [],
   "source": [
    "def get_onsets(fname):\n",
    "    '''\n",
    "    extract onsets from audio file\n",
    "    returns a list of frames where onsets occur in the audio file\n",
    "    https://github.com/aubio/aubio/blob/master/python/demos/demo_onset.py\n",
    "    '''\n",
    "    win_s = 512                 # fft size\n",
    "    hop_s = win_s // 2          # hop size\n",
    "\n",
    "    samplerate = 0\n",
    "    s = source(fname, samplerate, hop_s)\n",
    "    samplerate = s.samplerate\n",
    "\n",
    "    o = onset(\"default\", win_s, hop_s, samplerate)\n",
    "\n",
    "    # list of onsets, in samples\n",
    "    onsets = []\n",
    "\n",
    "    # total number of frames read\n",
    "    total_frames = 0\n",
    "    while True:\n",
    "        samples, read = s()\n",
    "        if o(samples):\n",
    "            onsets.append(o.get_last())\n",
    "        total_frames += read\n",
    "        if read < hop_s: break\n",
    "    return onsets"
   ]
  },
  {
   "cell_type": "code",
   "execution_count": 4,
   "metadata": {},
   "outputs": [],
   "source": [
    "def attack(signal, onset, srate):\n",
    "    '''\n",
    "    Computes attack time by taking the difference \n",
    "    of the argmax and onset and dividing by the sampling rate\n",
    "    '''\n",
    "    return (np.argmax(np.abs(signal)) - onset)/srate\n",
    "\n",
    "def extract_envelope(fname, win_size=256, hop_size=128):\n",
    "    '''\n",
    "    Computes attack time, decay time (time to reach sustain powerlevel),\n",
    "    sustain (time and powerlevel), and release time\n",
    "    \n",
    "    Returns Dictionary of the following format:\n",
    "    \n",
    "    {\n",
    "        \"attack\": attack_time,\n",
    "        \"decay\": decay_time,\n",
    "        \"sustain\": (sustain_time, sustain_power),\n",
    "        \"release\": release_time,\n",
    "    }\n",
    "    '''\n",
    "    first_onset = get_onsets(fname)[0]\n",
    "    signal, sr = sf.read(fname)\n",
    "    attack_t = attack(signal, first_onset, sr, win_size, hop_size)\n",
    "    \n",
    "    return {\n",
    "        \"attack\": attack_t,\n",
    "        \"decay\": 0.00,\n",
    "        \"sustain\": (0.00, 0.00),\n",
    "        \"release\": 0.00,\n",
    "    }\n",
    "    "
   ]
  },
  {
   "cell_type": "code",
   "execution_count": null,
   "metadata": {},
   "outputs": [],
   "source": []
  }
 ],
 "metadata": {
  "kernelspec": {
   "display_name": "Python 3",
   "language": "python",
   "name": "python3"
  },
  "language_info": {
   "codemirror_mode": {
    "name": "ipython",
    "version": 3
   },
   "file_extension": ".py",
   "mimetype": "text/x-python",
   "name": "python",
   "nbconvert_exporter": "python",
   "pygments_lexer": "ipython3",
   "version": "3.7.4"
  }
 },
 "nbformat": 4,
 "nbformat_minor": 2
}
