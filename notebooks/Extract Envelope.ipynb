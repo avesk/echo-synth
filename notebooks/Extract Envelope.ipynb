{
 "cells": [
  {
   "cell_type": "markdown",
   "metadata": {},
   "source": [
    "# Extract Envelope "
   ]
  },
  {
   "cell_type": "markdown",
   "metadata": {},
   "source": [
    "### Imports"
   ]
  },
  {
   "cell_type": "code",
   "execution_count": 1,
   "metadata": {},
   "outputs": [],
   "source": [
    "from aubio import source, onset\n",
    "import soundfile as sf\n",
    "import numpy as np\n",
    "from scipy import signal as sig\n",
    "import librosa\n",
    "import matplotlib.pyplot as plt\n",
    "import IPython.display as ipd"
   ]
  },
  {
   "cell_type": "code",
   "execution_count": 21,
   "metadata": {},
   "outputs": [],
   "source": [
    "def three_step_envelope(signal, K=200, freq_cutoff=0.125, padlen=150):\n",
    "    # Take the absolute value of the signal\n",
    "    abs_signal = np.abs(signal)\n",
    "\n",
    "    # Split signal into K bunches of N/K samples and take the max\n",
    "    # value from each bunch\n",
    "    N = len(abs_signal)\n",
    "    peaks = []\n",
    "    for i in range(0, N, K):\n",
    "        peaks.append(np.max(abs_signal[i:i+K]))\n",
    "    peaks = np.asarray(peaks)\n",
    "\n",
    "    # Apply a LPF with a cut off of 0.125 Times the Niquist (125 Hz)\n",
    "    b, a = sig.butter(8, freq_cutoff)\n",
    "    lpf_peaks = sig.filtfilt(b, a, peaks, padlen=padlen)\n",
    "    \n",
    "    return lpf_peaks"
   ]
  },
  {
   "cell_type": "code",
   "execution_count": 27,
   "metadata": {},
   "outputs": [
    {
     "name": "stdout",
     "output_type": "stream",
     "text": [
      "[5]\n",
      "{'attack': 0.0009750566893424037, 'decay': 6.303854875283447, 'sustain': (0.0, 0.02197252746963543), 'release': 9.024943310657596}\n"
     ]
    },
    {
     "data": {
      "image/png": "[encoded data removed]",
      "text/plain": [
       "<Figure size 432x288 with 1 Axes>"
      ]
     },
     "metadata": {
      "needs_background": "light"
     },
     "output_type": "display_data"
    }
   ],
   "source": [
    "def err(p, q):\n",
    "    return np.abs(p-q)\n",
    "\n",
    "def sustain_end_idx(env_seg, hop_size=2, win_size=5, conf=0.1):\n",
    "    offsets = np.arange(0, len(env_seg), hop_size)\n",
    "    \n",
    "    for o in offsets[:-1]: \n",
    "        frame = env_seg[o:o+win_size] \n",
    "        next_frame = env_seg[o+hop_size:o+hop_size+win_size]\n",
    "        frame_area = np.trapz(frame)\n",
    "        next_frame_area = np.trapz(next_frame)\n",
    "        if err(frame_area, next_frame_area) > conf:\n",
    "            return o\n",
    "        \n",
    "    return offsets[-1]\n",
    "        \n",
    "def find_nearest(array, value, min=0):\n",
    "    return min + (np.abs(array - value)).argmin()\n",
    "\n",
    "def attack(signal, onset, sr):\n",
    "    '''\n",
    "    Computes attack time by taking the difference \n",
    "    of the argmax and onset and dividing by the sampling rate\n",
    "    '''\n",
    "    return (np.argmax(np.abs(signal)) - onset)/sr\n",
    "\n",
    "def find_first_onset(signal, K=200):\n",
    "    onsets = []\n",
    "    while len(onsets) == 0: \n",
    "        approx_env = three_step_envelope(signal=signal, K=K)\n",
    "        # convert envelope to Fortran-contiguous\n",
    "        ftrn_env = np.asfortranarray(approx_env) \n",
    "\n",
    "        onsets = librosa.onset.onset_detect(y=ftrn_env, sr=sr)\n",
    "        print(onsets)\n",
    "        K-=10\n",
    "    \n",
    "    return onsets[0]\n",
    "\n",
    "def extract_envelope(signal, sr):\n",
    "    '''\n",
    "    Computes attack time, decay time (time to reach sustain powerlevel),\n",
    "    sustain (time and powerlevel), and release time\n",
    "    \n",
    "    Returns Dictionary of the following format:\n",
    "    \n",
    "    {\n",
    "        \"attack\": attack_time,\n",
    "        \"decay\": decay_time,\n",
    "        \"sustain\": (sustain_time, sustain_power),\n",
    "        \"release\": release_time,\n",
    "    }\n",
    "    '''\n",
    "    K = 200\n",
    "    approx_env = three_step_envelope(signal=signal, K=K)\n",
    "    # convert envelope to Fortran-contiguous\n",
    "    ftrn_env = np.asfortranarray(approx_env) \n",
    "    \n",
    "    first_onset = find_first_onset(signal)\n",
    "    attack_t = attack(ftrn_env, first_onset, sr)\n",
    "    \n",
    "#     plt.plot(approx_env)\n",
    "#     obtain a smooth approximation of the audio envelope\n",
    "    K = 2000\n",
    "    approx_env = three_step_envelope(signal=signal, K=K, padlen=50)\n",
    "    plt.plot(approx_env)\n",
    "    \n",
    "#     Define decay as the time taken for the envelope's power level\n",
    "#     to reduce to its average \n",
    "    max_idx = np.argmax(approx_env)\n",
    "    mean = np.mean(approx_env)\n",
    "    idx_nearest_to_mean = find_nearest(approx_env, mean, max_idx)\n",
    "    decay_t = (idx_nearest_to_mean - max_idx)*K/sr\n",
    "    plt.axvline(x=idx_nearest_to_mean)\n",
    "    sustain_power = approx_env[idx_nearest_to_mean]\n",
    "    \n",
    "    sustain_len = sustain_end_idx(approx_env[:idx_nearest_to_mean])\n",
    "    sustain_time = sustain_len*K/sr\n",
    "    \n",
    "#     assumes the end of the envelope is the end of the sustain\n",
    "    release_time = (len(approx_env)-1 - (idx_nearest_to_mean+sustain_len))*K/sr\n",
    "\n",
    "    return {\n",
    "        \"attack\": attack_t,\n",
    "        \"decay\": decay_t,\n",
    "        \"sustain\": (sustain_time, sustain_power),\n",
    "        \"release\": release_time,\n",
    "    }\n",
    "\n",
    "fname = '../datasets/guitar/open-e.wav'\n",
    "env = extract_envelope(signal, sr)\n",
    "print(env)\n",
    "# ipd.Audio(signal,rate=sr)\n"
   ]
  },
  {
   "cell_type": "markdown",
   "metadata": {},
   "source": [
    "## Test Driver Code"
   ]
  },
  {
   "cell_type": "code",
   "execution_count": 25,
   "metadata": {},
   "outputs": [
    {
     "name": "stdout",
     "output_type": "stream",
     "text": [
      "[5]\n",
      "{'attack': 0.0009750566893424037, 'decay': 6.303854875283447, 'sustain': (0.0, 0.02197252746963543), 'release': 9.024943310657596}\n"
     ]
    },
    {
     "data": {
      "image/png": "[encoded data removed]",
      "text/plain": [
       "<Figure size 432x288 with 1 Axes>"
      ]
     },
     "metadata": {
      "needs_background": "light"
     },
     "output_type": "display_data"
    }
   ],
   "source": [
    "fname = '../datasets/guitar/vibrato.wav'\n",
    "fname = '../datasets/guitar/open-e.wav'\n",
    "signal, sr = sf.read(fname)\n",
    "env = extract_envelope(signal, sr)\n",
    "print(env)\n"
   ]
  },
  {
   "cell_type": "code",
   "execution_count": null,
   "metadata": {},
   "outputs": [],
   "source": []
  }
 ],
 "metadata": {
  "kernelspec": {
   "display_name": "Python 3",
   "language": "python",
   "name": "python3"
  },
  "language_info": {
   "codemirror_mode": {
    "name": "ipython",
    "version": 3
   },
   "file_extension": ".py",
   "mimetype": "text/x-python",
   "name": "python",
   "nbconvert_exporter": "python",
   "pygments_lexer": "ipython3",
   "version": "3.7.4"
  }
 },
 "nbformat": 4,
 "nbformat_minor": 2
}
